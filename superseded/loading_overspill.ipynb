{
 "cells": [
  {
   "cell_type": "code",
   "execution_count": null,
   "metadata": {},
   "outputs": [],
   "source": [
    "# metadata = sqla.MetaData()\n",
    "# station = sqla.Table (\"station\", metadata,\n",
    "#     sqla.Column('address', sqla.String(256), nullable=False), \n",
    "#     sqla.Column('banking', sqla.Integer), \n",
    "#     sqla.Column('bike stands', sqla.Integer), \n",
    "#     sqla.Column('bonus', sqla.Integer), \n",
    "#     sqla.Column('contract name', sqla.String (256)), \n",
    "#     sqla.Column('name', sqla.String (256)), \n",
    "#     sqla.Column('number', sqla. Integer), \n",
    "#     sqla.Column('position lat', sqla.REAL), \n",
    "#     sqla.Column('position_Ing', sqla.REAL), \n",
    "#     sqla.Column('status', sqla.String (256))\n",
    "# )\n",
    "\n",
    "# availability = sqla. Table (\"availability\", metadata,\n",
    "#     sqla.Column('available_bikes', sqla.Integer), \n",
    "#     sqla.Column('available bike_stands', sqla.Integer), \n",
    "#     sqla.Column('number', sqla.Integer), \n",
    "#     sqla.Column('last_update', sqla.BigInteger)\n",
    "# )\n",
    "# try:\n",
    "#     station.drop(engine)\n",
    "#     availability.drop(engine)\n",
    "# except:\n",
    "#     pass\n",
    "\n",
    "# metadata.create_all(engine)"
   ]
  },
  {
   "cell_type": "code",
   "execution_count": null,
   "metadata": {},
   "outputs": [],
   "source": [
    "# def stations_fix_keys(station):\n",
    "#     station['position_lat'] = station['position']['lat']\n",
    "#     station['position_lng'] = station['position']['lng']\n",
    "#     return station\n",
    "\n",
    "# engine.execute(station.insert(), *map(stations_fix_keys, stations))"
   ]
  }
 ],
 "metadata": {
  "kernelspec": {
   "display_name": "Python 3.10.9 ('comp47350')",
   "language": "python",
   "name": "python3"
  },
  "language_info": {
   "name": "python",
   "version": "3.10.9"
  },
  "orig_nbformat": 4,
  "vscode": {
   "interpreter": {
    "hash": "28e6b10cd9bb07be1b903ab1a1c4ae2b8696b1db32f2b20efcd0a01ea3c45c25"
   }
  }
 },
 "nbformat": 4,
 "nbformat_minor": 2
}
