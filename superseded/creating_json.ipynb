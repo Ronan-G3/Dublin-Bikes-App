{
 "cells": [
  {
   "cell_type": "code",
   "execution_count": null,
   "id": "b8db7ae6",
   "metadata": {},
   "outputs": [],
   "source": [
    "import requests\n",
    "import json\n",
    "import time\n",
    "import traceback\n",
    "import datetime\n",
    "\n",
    "name = \"Dublin\"\n",
    "url = \"https://api.jcdecaux.com/vls/v1/stations\"\n",
    "url += \"?contract=Dublin&apiKey=a572dc37b128fb280c9e1621093640367863e160\"\n",
    "\n",
    "while True:\n",
    "    try:\n",
    "        response = requests.get(url)\n",
    "        url = \"https://api.jcdecaux.com/vls/v1/stations?contract=Dublin&apiKey=a572dc37b128fb280c9e1621093640367863e160\"\n",
    "        response = requests.get(url)\n",
    "        stations = json.loads(response.text)\n",
    "        \n",
    "        print(response.text)\n",
    "        file_name = datetime.datetime.now().strftime(\"%I:%M%p on %B %d, %Y\")\n",
    "        with open(f'{file_name}.json', 'w') as fp:\n",
    "            json.dump(stations, fp)\n",
    "\n",
    "        #write_to_file(response.text)\n",
    "        #write_to_db(response.text)\n",
    "        print(\"hello\")\n",
    "        time.sleep(10)\n",
    "    except:\n",
    "        # if there is any problem, print the traceback\n",
    "        print(traceback.format_exc())"
   ]
  }
 ],
 "metadata": {
  "kernelspec": {
   "display_name": "Python 3 (ipykernel)",
   "language": "python",
   "name": "python3"
  },
  "language_info": {
   "codemirror_mode": {
    "name": "ipython",
    "version": 3
   },
   "file_extension": ".py",
   "mimetype": "text/x-python",
   "name": "python",
   "nbconvert_exporter": "python",
   "pygments_lexer": "ipython3",
   "version": "3.10.9"
  },
  "vscode": {
   "interpreter": {
    "hash": "28e6b10cd9bb07be1b903ab1a1c4ae2b8696b1db32f2b20efcd0a01ea3c45c25"
   }
  }
 },
 "nbformat": 4,
 "nbformat_minor": 5
}
