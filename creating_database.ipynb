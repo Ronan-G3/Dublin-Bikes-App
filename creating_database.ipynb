{
 "cells": [
  {
   "cell_type": "code",
   "execution_count": 1,
   "metadata": {},
   "outputs": [],
   "source": [
    "import sqlalchemy as sqla\n",
    "from sqlalchemy import create_engine\n",
    "import traceback\n",
    "import glob\n",
    "import os\n",
    "from pprint import pprint\n",
    "import json as json\n",
    "import requests\n",
    "import time\n",
    "from IPython.display import display"
   ]
  },
  {
   "cell_type": "code",
   "execution_count": 2,
   "metadata": {},
   "outputs": [],
   "source": [
    "#creating engine with our RDS info\n",
    "\n",
    "URI = \"dbbikes.ck8yyafvjq4p.eu-west-1.rds.amazonaws.com\"\n",
    "PASSWORD = \"Grouptwentysix\"\n",
    "PORT = \"3306\"\n",
    "DB = \"dbbikes\"\n",
    "USER = \"Group26\"\n",
    "\n",
    "engine = create_engine(\"mysql+mysqldb://{}:{}@{}:{}/{}\".format(USER, PASSWORD, URI, PORT, DB), echo=True)"
   ]
  },
  {
   "cell_type": "code",
   "execution_count": 3,
   "metadata": {},
   "outputs": [
    {
     "name": "stdout",
     "output_type": "stream",
     "text": [
      "2023-02-27 10:57:06,216 INFO sqlalchemy.engine.Engine SELECT DATABASE()\n",
      "2023-02-27 10:57:06,217 INFO sqlalchemy.engine.Engine [raw sql] ()\n",
      "2023-02-27 10:57:06,227 INFO sqlalchemy.engine.Engine SELECT @@sql_mode\n",
      "2023-02-27 10:57:06,227 INFO sqlalchemy.engine.Engine [raw sql] ()\n",
      "2023-02-27 10:57:06,232 INFO sqlalchemy.engine.Engine SELECT @@lower_case_table_names\n",
      "2023-02-27 10:57:06,233 INFO sqlalchemy.engine.Engine [raw sql] ()\n",
      "2023-02-27 10:57:06,243 INFO sqlalchemy.engine.Engine CREATE DATABASE IF NOT EXISTS testbikes\n",
      "2023-02-27 10:57:06,243 INFO sqlalchemy.engine.Engine [raw sql] ()\n",
      "2023-02-27 10:57:06,261 INFO sqlalchemy.engine.Engine COMMIT\n"
     ]
    },
    {
     "data": {
      "text/plain": [
       "<sqlalchemy.engine.cursor.LegacyCursorResult at 0x7fc41018fe20>"
      ]
     },
     "execution_count": 3,
     "metadata": {},
     "output_type": "execute_result"
    }
   ],
   "source": [
    "#creating test database to check if sqlalchemy is connected correctly\n",
    "\n",
    "sql = \"CREATE DATABASE IF NOT EXISTS testbikes\"\n",
    "engine.execute(sql)"
   ]
  },
  {
   "cell_type": "code",
   "execution_count": 4,
   "metadata": {},
   "outputs": [
    {
     "name": "stdout",
     "output_type": "stream",
     "text": [
      "2023-02-27 10:57:06,308 INFO sqlalchemy.engine.Engine \n",
      "CREATE TABLE IF NOT EXISTS station ( \n",
      "address VARCHAR(256), \n",
      "banking INTEGER,\n",
      "bike_stands INTEGER, \n",
      "bonus INTEGER, \n",
      "contract_name VARCHAR(256), \n",
      "name VARCHAR(256), \n",
      "number INTEGER, \n",
      "position_lat REAL, \n",
      "position_Ing REAL,\n",
      "status VARCHAR(256)\n",
      ")\n",
      "\n",
      "2023-02-27 10:57:06,309 INFO sqlalchemy.engine.Engine [raw sql] ()\n",
      "2023-02-27 10:57:06,391 INFO sqlalchemy.engine.Engine COMMIT\n",
      "This result object does not return rows. It has been closed automatically.\n"
     ]
    }
   ],
   "source": [
    "#creating station table, running this code might overwrite table\n",
    "#overwrites table in dbbikes because its the default\n",
    "\n",
    "sql = \"\"\"\n",
    "CREATE TABLE IF NOT EXISTS station ( \n",
    "address VARCHAR(256), \n",
    "banking INTEGER,\n",
    "bike_stands INTEGER, \n",
    "bonus INTEGER, \n",
    "contract_name VARCHAR(256), \n",
    "name VARCHAR(256), \n",
    "number INTEGER, \n",
    "position_lat REAL, \n",
    "position_Ing REAL,\n",
    "status VARCHAR(256)\n",
    ")\n",
    "\"\"\"\n",
    "try:\n",
    "    res = engine.execute(sql)\n",
    "    print(res.fetchall())\n",
    "except Exception as e:\n",
    "    print(e)"
   ]
  },
  {
   "cell_type": "code",
   "execution_count": 5,
   "metadata": {},
   "outputs": [
    {
     "name": "stdout",
     "output_type": "stream",
     "text": [
      "2023-02-27 10:57:06,419 INFO sqlalchemy.engine.Engine \n",
      "CREATE TABLE IF NOT EXISTS availability ( \n",
      "number INTEGER, \n",
      "available_bikes INTEGER, \n",
      "available_bike_stands INTEGER, \n",
      "last_update INTEGER\n",
      ")\n",
      "\n",
      "2023-02-27 10:57:06,419 INFO sqlalchemy.engine.Engine [raw sql] ()\n",
      "2023-02-27 10:57:06,456 INFO sqlalchemy.engine.Engine COMMIT\n",
      "This result object does not return rows. It has been closed automatically.\n"
     ]
    }
   ],
   "source": [
    "#danger zone: running this code might drop any data that's been scraped\n",
    "#creating availability table, similar comments to station above\n",
    "\n",
    "sql = \"\"\"\n",
    "CREATE TABLE IF NOT EXISTS availability ( \n",
    "number INTEGER, \n",
    "available_bikes INTEGER, \n",
    "available_bike_stands INTEGER, \n",
    "last_update INTEGER\n",
    ")\n",
    "\"\"\"\n",
    "\n",
    "try:\n",
    "    res = engine.execute(sql)\n",
    "    print (res.fetchall())\n",
    "except Exception as e:\n",
    "    print(e)#, traceback. format_exc ()"
   ]
  }
 ],
 "metadata": {
  "kernelspec": {
   "display_name": "Python 3.9.16 ('comp30830')",
   "language": "python",
   "name": "python3"
  },
  "language_info": {
   "codemirror_mode": {
    "name": "ipython",
    "version": 3
   },
   "file_extension": ".py",
   "mimetype": "text/x-python",
   "name": "python",
   "nbconvert_exporter": "python",
   "pygments_lexer": "ipython3",
   "version": "3.9.16"
  },
  "vscode": {
   "interpreter": {
    "hash": "8218dd525afafe1fce2c00b1c9289104053fa0437168c870b6f65c9837535405"
   }
  }
 },
 "nbformat": 4,
 "nbformat_minor": 2
}
