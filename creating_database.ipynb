{
 "cells": [
  {
   "cell_type": "code",
   "execution_count": 19,
   "metadata": {},
   "outputs": [],
   "source": [
    "import sqlalchemy as sqla\n",
    "from sqlalchemy import create_engine\n",
    "import traceback\n",
    "import glob\n",
    "import os\n",
    "from pprint import pprint\n",
    "import json as json\n",
    "import requests\n",
    "import time\n",
    "from IPython.display import display"
   ]
  },
  {
   "cell_type": "code",
   "execution_count": 20,
   "metadata": {},
   "outputs": [],
   "source": [
    "#creating engine with our RDS info\n",
    "\n",
    "URI = \"dublinbikesdb.ctnqnsdsyxei.us-east-1.rds.amazonaws.com\"\n",
    "PASSWORD = \"Grouptwentysix\"\n",
    "PORT = \"3306\"\n",
    "DB = \"dbbikes\"\n",
    "USER = \"Group26\"\n",
    "\n",
    "engine = create_engine(\"mysql+mysqldb://{}:{}@{}:{}/{}\".format(USER, PASSWORD, URI, PORT, DB), echo=True)"
   ]
  },
  {
   "cell_type": "code",
   "execution_count": 21,
   "metadata": {},
   "outputs": [
    {
     "name": "stdout",
     "output_type": "stream",
     "text": [
      "2023-02-23 17:58:10,684 INFO sqlalchemy.engine.Engine SELECT DATABASE()\n",
      "2023-02-23 17:58:10,687 INFO sqlalchemy.engine.Engine [raw sql] ()\n",
      "2023-02-23 17:58:11,216 INFO sqlalchemy.engine.Engine SELECT @@sql_mode\n",
      "2023-02-23 17:58:11,219 INFO sqlalchemy.engine.Engine [raw sql] ()\n",
      "2023-02-23 17:58:11,642 INFO sqlalchemy.engine.Engine SELECT @@lower_case_table_names\n",
      "2023-02-23 17:58:11,644 INFO sqlalchemy.engine.Engine [raw sql] ()\n",
      "2023-02-23 17:58:11,863 INFO sqlalchemy.engine.Engine CREATE DATABASE IF NOT EXISTS testbikes\n",
      "2023-02-23 17:58:11,867 INFO sqlalchemy.engine.Engine [raw sql] ()\n",
      "2023-02-23 17:58:12,023 INFO sqlalchemy.engine.Engine COMMIT\n"
     ]
    },
    {
     "data": {
      "text/plain": [
       "<sqlalchemy.engine.cursor.LegacyCursorResult at 0x7fa230531b80>"
      ]
     },
     "execution_count": 21,
     "metadata": {},
     "output_type": "execute_result"
    }
   ],
   "source": [
    "#creating test database to check if sqlalchemy is connected correctly\n",
    "\n",
    "sql = \"CREATE DATABASE IF NOT EXISTS testbikes\"\n",
    "engine.execute(sql)"
   ]
  },
  {
   "cell_type": "code",
   "execution_count": 22,
   "metadata": {},
   "outputs": [
    {
     "name": "stdout",
     "output_type": "stream",
     "text": [
      "2023-02-23 17:58:12,246 INFO sqlalchemy.engine.Engine DROP TABLE IF EXISTS station\n",
      "2023-02-23 17:58:12,247 INFO sqlalchemy.engine.Engine [raw sql] ()\n",
      "2023-02-23 17:58:12,501 INFO sqlalchemy.engine.Engine COMMIT\n",
      "2023-02-23 17:58:12,690 INFO sqlalchemy.engine.Engine \n",
      "CREATE TABLE IF NOT EXISTS station ( \n",
      "address VARCHAR(256), \n",
      "banking INTEGER,\n",
      "bike_stands INTEGER, \n",
      "bonus INTEGER, \n",
      "contract_name VARCHAR(256), \n",
      "name VARCHAR(256), \n",
      "number INTEGER, \n",
      "position_lat REAL, \n",
      "position_Ing REAL,\n",
      "status VARCHAR(256)\n",
      ")\n",
      "\n",
      "2023-02-23 17:58:12,691 INFO sqlalchemy.engine.Engine [raw sql] ()\n",
      "2023-02-23 17:58:12,926 INFO sqlalchemy.engine.Engine COMMIT\n",
      "This result object does not return rows. It has been closed automatically.\n"
     ]
    }
   ],
   "source": [
    "#creating station table, running this code might overwrite table\n",
    "#overwrites table in dbbikes because its the default\n",
    "\n",
    "sql = \"\"\"\n",
    "CREATE TABLE IF NOT EXISTS station ( \n",
    "address VARCHAR(256), \n",
    "banking INTEGER,\n",
    "bike_stands INTEGER, \n",
    "bonus INTEGER, \n",
    "contract_name VARCHAR(256), \n",
    "name VARCHAR(256), \n",
    "number INTEGER, \n",
    "position_lat REAL, \n",
    "position_Ing REAL,\n",
    "status VARCHAR(256)\n",
    ")\n",
    "\"\"\"\n",
    "try:\n",
    "    res = engine.execute(sql)\n",
    "    print(res.fetchall())\n",
    "except Exception as e:\n",
    "    print(e)"
   ]
  },
  {
   "cell_type": "code",
   "execution_count": 23,
   "metadata": {},
   "outputs": [
    {
     "name": "stdout",
     "output_type": "stream",
     "text": [
      "2023-02-23 17:58:13,141 INFO sqlalchemy.engine.Engine \n",
      "CREATE TABLE IF NOT EXISTS availability ( \n",
      "number INTEGER, \n",
      "available_bikes INTEGER, \n",
      "available_bike_stands INTEGER, \n",
      "last_update INTEGER\n",
      ")\n",
      "\n",
      "2023-02-23 17:58:13,142 INFO sqlalchemy.engine.Engine [raw sql] ()\n",
      "2023-02-23 17:58:13,258 INFO sqlalchemy.engine.Engine COMMIT\n",
      "This result object does not return rows. It has been closed automatically.\n"
     ]
    }
   ],
   "source": [
    "#danger zone: running this code might drop any data that's been scraped\n",
    "#creating availability table, similar comments to station above\n",
    "\n",
    "sql = \"\"\"\n",
    "CREATE TABLE IF NOT EXISTS availability ( \n",
    "number INTEGER, \n",
    "available_bikes INTEGER, \n",
    "available_bike_stands INTEGER, \n",
    "last_update INTEGER\n",
    ")\n",
    "\"\"\"\n",
    "\n",
    "try:\n",
    "    res = engine.execute(sql)\n",
    "    print (res.fetchall())\n",
    "except Exception as e:\n",
    "    print(e)#, traceback. format_exc ())"
   ]
  }
 ],
 "metadata": {
  "kernelspec": {
   "display_name": "Python 3.9.13 ('base')",
   "language": "python",
   "name": "python3"
  },
  "language_info": {
   "codemirror_mode": {
    "name": "ipython",
    "version": 3
   },
   "file_extension": ".py",
   "mimetype": "text/x-python",
   "name": "python",
   "nbconvert_exporter": "python",
   "pygments_lexer": "ipython3",
   "version": "3.9.13"
  },
  "vscode": {
   "interpreter": {
    "hash": "40d3a090f54c6569ab1632332b64b2c03c39dcf918b08424e98f38b5ae0af88f"
   }
  }
 },
 "nbformat": 4,
 "nbformat_minor": 2
}
