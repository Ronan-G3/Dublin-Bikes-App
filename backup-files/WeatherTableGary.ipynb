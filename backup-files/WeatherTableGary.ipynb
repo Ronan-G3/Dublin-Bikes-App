{
 "cells": [
  {
   "cell_type": "code",
   "execution_count": 2,
   "id": "7aefd276",
   "metadata": {},
   "outputs": [
    {
     "name": "stdout",
     "output_type": "stream",
     "text": [
      "2023-03-01 14:26:08,531 INFO sqlalchemy.engine.Engine SELECT DATABASE()\n",
      "2023-03-01 14:26:08,531 INFO sqlalchemy.engine.Engine [raw sql] ()\n",
      "2023-03-01 14:26:08,688 INFO sqlalchemy.engine.Engine SELECT @@sql_mode\n",
      "2023-03-01 14:26:08,688 INFO sqlalchemy.engine.Engine [raw sql] ()\n",
      "2023-03-01 14:26:08,703 INFO sqlalchemy.engine.Engine SELECT @@lower_case_table_names\n",
      "2023-03-01 14:26:08,703 INFO sqlalchemy.engine.Engine [raw sql] ()\n",
      "2023-03-01 14:26:08,734 INFO sqlalchemy.engine.Engine \n",
      "CREATE TABLE IF NOT EXISTS weather ( \n",
      "weather_id INTEGER, \n",
      "weather_main VARCHAR(256),\n",
      "weater_description VARCHAR(256), \n",
      "temp REAL, \n",
      "feels_like REAL, \n",
      "humidity INTEGER, \n",
      "visibility INTEGER, \n",
      "wind_speed REAL, \n",
      "wind_deg INTEGER,\n",
      "clouds INTEGER,\n",
      "datetime INTEGER\n",
      ")\n",
      "\n",
      "2023-03-01 14:26:08,741 INFO sqlalchemy.engine.Engine [raw sql] ()\n",
      "2023-03-01 14:26:08,892 INFO sqlalchemy.engine.Engine COMMIT\n",
      "This result object does not return rows. It has been closed automatically.\n"
     ]
    }
   ],
   "source": [
    "import sqlalchemy as sqla\n",
    "from sqlalchemy import create_engine\n",
    "import traceback\n",
    "import glob\n",
    "import os\n",
    "from pprint import pprint\n",
    "import json as json\n",
    "import requests\n",
    "import time\n",
    "from IPython.display import display\n",
    "\n",
    "URI = \"group26db.charpzg5ii72.eu-west-1.rds.amazonaws.com\"\n",
    "PORT = \"3306\"\n",
    "DB = \"databaseg26\"\n",
    "USER = \"Group26\"\n",
    "PASSWORD = \"GroupTwentySix\"\n",
    "\n",
    "engine = create_engine(\"mysql+mysqldb://{}:{}@{}:{}/{}\".format(USER, PASSWORD, URI, PORT, DB), echo=True)\n",
    "\n",
    "sql = \"\"\"\n",
    "CREATE TABLE IF NOT EXISTS weather ( \n",
    "weather_id INTEGER, \n",
    "weather_main VARCHAR(256),\n",
    "weater_description VARCHAR(256), \n",
    "temp REAL, \n",
    "feels_like REAL, \n",
    "humidity INTEGER, \n",
    "visibility INTEGER, \n",
    "wind_speed REAL, \n",
    "wind_deg INTEGER,\n",
    "clouds INTEGER,\n",
    "datetime INTEGER\n",
    ")\n",
    "\"\"\"\n",
    "try:\n",
    "    res = engine.execute(sql)\n",
    "    print(res.fetchall())\n",
    "except Exception as e:\n",
    "    print(e)"
   ]
  },
  {
   "cell_type": "code",
   "execution_count": null,
   "id": "cb5b7ef5",
   "metadata": {},
   "outputs": [],
   "source": []
  }
 ],
 "metadata": {
  "kernelspec": {
   "display_name": "Python 3 (ipykernel)",
   "language": "python",
   "name": "python3"
  },
  "language_info": {
   "codemirror_mode": {
    "name": "ipython",
    "version": 3
   },
   "file_extension": ".py",
   "mimetype": "text/x-python",
   "name": "python",
   "nbconvert_exporter": "python",
   "pygments_lexer": "ipython3",
   "version": "3.9.16"
  }
 },
 "nbformat": 4,
 "nbformat_minor": 5
}
