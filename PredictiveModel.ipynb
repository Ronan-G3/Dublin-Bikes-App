{
 "cells": [
  {
   "cell_type": "code",
   "execution_count": 2,
   "id": "3c33a73d",
   "metadata": {},
   "outputs": [],
   "source": [
    "from sklearn.linear_model import LogisticRegression\n",
    "import requests\n",
    "import json\n",
    "import time\n",
    "import time \n",
    "import sqlalchemy as sqla\n",
    "from sqlalchemy import create_engine\n",
    "import csv\n",
    "\n",
    "URI = \"dublinbikesdatabase.ck8yyafvjq4p.eu-west-1.rds.amazonaws.com\"\n",
    "PORT = \"3306\"\n",
    "DB = \"dbbikes\"\n",
    "USER = \"Group26\"\n",
    "PASSWORD = \"Grouptwentysix\"\n",
    "\n",
    "engine = create_engine(\"mysql+mysqldb://{}:{}@{}:{}/{}\".format(USER, PASSWORD, URI, PORT, DB), echo=True)"
   ]
  },
  {
   "cell_type": "code",
   "execution_count": null,
   "id": "36440eec",
   "metadata": {},
   "outputs": [],
   "source": [
    "conn = engine.connect()\n",
    "\n",
    "result = conn.execute(\"SELECT * FROM availability\")\n",
    "\n",
    "data = result.fetchall()\n",
    "\n",
    "conn.close()"
   ]
  },
  {
   "cell_type": "code",
   "execution_count": 5,
   "id": "47fa0e7d",
   "metadata": {},
   "outputs": [],
   "source": [
    "with open(\"availability.csv\", \"w\", newline=\"\") as f:\n",
    "    writer = csv.writer(f)\n",
    "    writer.writerows(data)"
   ]
  },
  {
   "cell_type": "code",
   "execution_count": null,
   "id": "eef6c9d0",
   "metadata": {},
   "outputs": [],
   "source": [
    "conn = engine.connect()\n",
    "\n",
    "result = conn.execute(\"SELECT * FROM weather\")\n",
    "\n",
    "data = result.fetchall()\n",
    "\n",
    "conn.close()"
   ]
  },
  {
   "cell_type": "code",
   "execution_count": null,
   "id": "b590f675",
   "metadata": {},
   "outputs": [],
   "source": [
    "with open(\"weather.csv\", \"w\", newline=\"\") as f:\n",
    "    writer = csv.writer(f)\n",
    "    writer.writerows(data)"
   ]
  }
 ],
 "metadata": {
  "kernelspec": {
   "display_name": "Python 3 (ipykernel)",
   "language": "python",
   "name": "python3"
  },
  "language_info": {
   "codemirror_mode": {
    "name": "ipython",
    "version": 3
   },
   "file_extension": ".py",
   "mimetype": "text/x-python",
   "name": "python",
   "nbconvert_exporter": "python",
   "pygments_lexer": "ipython3",
   "version": "3.9.16"
  }
 },
 "nbformat": 4,
 "nbformat_minor": 5
}
