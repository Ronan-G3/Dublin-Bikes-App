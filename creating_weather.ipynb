{
 "cells": [
  {
   "cell_type": "code",
   "execution_count": 1,
   "metadata": {},
   "outputs": [],
   "source": [
    "import sqlalchemy as sqla\n",
    "from sqlalchemy import create_engine\n",
    "import traceback\n",
    "import glob\n",
    "import os\n",
    "from pprint import pprint\n",
    "import json as json\n",
    "import requests\n",
    "import time\n",
    "from IPython.display import display"
   ]
  },
  {
   "cell_type": "code",
   "execution_count": 2,
   "metadata": {},
   "outputs": [],
   "source": [
    "#creating engine with our RDS info\n",
    "\n",
    "URI = \"dbbikes.ck8yyafvjq4p.eu-west-1.rds.amazonaws.com\"\n",
    "PASSWORD = \"Grouptwentysix\"\n",
    "PORT = \"3306\"\n",
    "DB = \"dbbikes\"\n",
    "USER = \"Group26\"\n",
    "\n",
    "engine = create_engine(\"mysql+mysqldb://{}:{}@{}:{}/{}\".format(USER, PASSWORD, URI, PORT, DB), echo=True)"
   ]
  },
  {
   "cell_type": "code",
   "execution_count": 3,
   "metadata": {},
   "outputs": [
    {
     "name": "stdout",
     "output_type": "stream",
     "text": [
      "2023-03-01 10:25:17,130 INFO sqlalchemy.engine.Engine SELECT DATABASE()\n",
      "2023-03-01 10:25:17,130 INFO sqlalchemy.engine.Engine [raw sql] ()\n",
      "2023-03-01 10:25:17,141 INFO sqlalchemy.engine.Engine SELECT @@sql_mode\n",
      "2023-03-01 10:25:17,142 INFO sqlalchemy.engine.Engine [raw sql] ()\n",
      "2023-03-01 10:25:17,146 INFO sqlalchemy.engine.Engine SELECT @@lower_case_table_names\n",
      "2023-03-01 10:25:17,147 INFO sqlalchemy.engine.Engine [raw sql] ()\n",
      "2023-03-01 10:25:17,157 INFO sqlalchemy.engine.Engine \n",
      "CREATE TABLE IF NOT EXISTS weather ( \n",
      "weather_id INTEGER, \n",
      "weather_main VARCHAR(256),\n",
      "weater_description VARCHAR(256), \n",
      "temp REAL, \n",
      "feels_like REAL, \n",
      "humidity INTEGER, \n",
      "visibility INTEGER, \n",
      "wind_speed REAL, \n",
      "wind_deg INTEGER,\n",
      "clouds INTEGER,\n",
      "datetime INTEGER\n",
      ")\n",
      "\n",
      "2023-03-01 10:25:17,158 INFO sqlalchemy.engine.Engine [raw sql] ()\n",
      "2023-03-01 10:25:17,249 INFO sqlalchemy.engine.Engine COMMIT\n",
      "This result object does not return rows. It has been closed automatically.\n"
     ]
    }
   ],
   "source": [
    "#creating weather table, running this code might overwrite table\n",
    "#overwrites table in dbbikes because its the default\n",
    "\n",
    "sql = \"\"\"\n",
    "CREATE TABLE IF NOT EXISTS weather ( \n",
    "weather_id INTEGER, \n",
    "weather_main VARCHAR(256),\n",
    "weater_description VARCHAR(256), \n",
    "temp REAL, \n",
    "feels_like REAL, \n",
    "humidity INTEGER, \n",
    "visibility INTEGER, \n",
    "wind_speed REAL, \n",
    "wind_deg INTEGER,\n",
    "clouds INTEGER,\n",
    "datetime INTEGER\n",
    ")\n",
    "\"\"\"\n",
    "try:\n",
    "    res = engine.execute(sql)\n",
    "    print(res.fetchall())\n",
    "except Exception as e:\n",
    "    print(e)"
   ]
  }
 ],
 "metadata": {
  "kernelspec": {
   "display_name": "Python 3.9.16 ('comp30830')",
   "language": "python",
   "name": "python3"
  },
  "language_info": {
   "codemirror_mode": {
    "name": "ipython",
    "version": 3
   },
   "file_extension": ".py",
   "mimetype": "text/x-python",
   "name": "python",
   "nbconvert_exporter": "python",
   "pygments_lexer": "ipython3",
   "version": "3.9.16"
  },
  "orig_nbformat": 4,
  "vscode": {
   "interpreter": {
    "hash": "8218dd525afafe1fce2c00b1c9289104053fa0437168c870b6f65c9837535405"
   }
  }
 },
 "nbformat": 4,
 "nbformat_minor": 2
}
