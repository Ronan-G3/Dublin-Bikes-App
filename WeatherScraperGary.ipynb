{
 "cells": [
  {
   "cell_type": "code",
   "execution_count": null,
   "id": "a7731bc5",
   "metadata": {},
   "outputs": [],
   "source": [
    "import requests\n",
    "import json\n",
    "import time\n",
    "import traceback\n",
    "import time \n",
    "from sqlalchemy import create_engine\n",
    "\n",
    "URI = \"group26db.charpzg5ii72.eu-west-1.rds.amazonaws.com\"\n",
    "PORT = \"3306\"\n",
    "DB = \"databaseg26\"\n",
    "USER = \"Group26\"\n",
    "PASSWORD = \"GroupTwentySix\"\n",
    "\n",
    "engine = create_engine(\"mysql+mysqldb://{}:{}@{}:{}/{}\".format(USER, PASSWORD, URI, PORT, DB), echo=True)\n",
    "\n",
    "def weather_to_db(text):\n",
    "    weather = json.loads(text)\n",
    "    weather_vals = (weather[\"weather\"][0][\"id\"],weather[\"weather\"][0][\"main\"],weather[\"weather\"][0][\"description\"],\n",
    "                    weather[\"main\"][\"temp\"],weather[\"main\"][\"feels_like\"],weather[\"main\"][\"humidity\"],\n",
    "                    weather[\"visibility\"],weather[\"wind\"][\"speed\"],weather[\"wind\"][\"deg\"],weather[\"clouds\"][\"all\"],\n",
    "                    time.time())\n",
    "    print(weather_vals)\n",
    "    engine.execute(\"insert into weather values (%s,%s,%s,%s,%s,%s,%s,%s,%s,%s,%s)\",weather_vals)\n",
    "    return\n",
    "url = \"https://api.openweathermap.org/data/2.5/weather?q=Dublin,IE&APPID=e27ae2a7d7babf283e771962901cd48f\"\n",
    "while True:\n",
    "    try:\n",
    "        weather_response = requests.get(url)\n",
    "        weather_to_db(weather_response.text)\n",
    "        time.sleep(300)\n",
    "    except:\n",
    "        print (traceback.format_exc())"
   ]
  },
  {
   "cell_type": "code",
   "execution_count": null,
   "id": "a91c9ffb",
   "metadata": {},
   "outputs": [],
   "source": []
  }
 ],
 "metadata": {
  "kernelspec": {
   "display_name": "Python 3 (ipykernel)",
   "language": "python",
   "name": "python3"
  },
  "language_info": {
   "codemirror_mode": {
    "name": "ipython",
    "version": 3
   },
   "file_extension": ".py",
   "mimetype": "text/x-python",
   "name": "python",
   "nbconvert_exporter": "python",
   "pygments_lexer": "ipython3",
   "version": "3.9.16"
  }
 },
 "nbformat": 4,
 "nbformat_minor": 5
}
