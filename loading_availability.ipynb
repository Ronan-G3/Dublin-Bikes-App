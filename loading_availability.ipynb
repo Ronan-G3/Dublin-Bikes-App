{
 "cells": [
  {
   "cell_type": "code",
   "execution_count": null,
   "metadata": {},
   "outputs": [],
   "source": [
    "import requests\n",
    "import json\n",
    "import time\n",
    "from datetime import datetime \n",
    "import sqlalchemy as sqla\n",
    "from sqlalchemy import create_engine\n",
    "\n",
    "URI = \"dbbikes.ck8yyafvjq4p.eu-west-1.rds.amazonaws.com\"\n",
    "PASSWORD = \"Grouptwentysix\"\n",
    "PORT = \"3306\"\n",
    "DB = \"dbbikes\"\n",
    "USER = \"Group26\"\n",
    "\n",
    "engine = create_engine(\"mysql+mysqldb://{}:{}@{}:{}/{}\".format(USER, PASSWORD, URI, PORT, DB), echo=True)\n",
    "\n",
    "def availability_to_db(text):\n",
    "    stations = json.loads(text)\n",
    "    now = datetime.now()\n",
    "    print(type(stations), len(stations)) \n",
    "    for station in stations:\n",
    "        print (station)\n",
    "        vals = (int(station.get('number')), int(station.get('available_bikes')), int(station.get('available_bike_stands')), datetime.timestamp(now))\n",
    "        engine.execute(\"insert into availability values (%s,%s,%s,%s)\",vals)\n",
    "    return\n",
    "\n",
    "url = \"https://api.jcdecaux.com/vls/v1/stations?contract=Dublin&apiKey=a572dc37b128fb280c9e1621093640367863e160\"\n",
    "response = requests.get(url)\n",
    "stations = json.loads(response.text)\n",
    "\n",
    "while True:\n",
    "    availability_to_db(response.text)\n",
    "    time.sleep(5*60)"
   ]
  }
 ],
 "metadata": {
  "kernelspec": {
   "display_name": "Python 3.9.16 ('comp30830')",
   "language": "python",
   "name": "python3"
  },
  "language_info": {
   "codemirror_mode": {
    "name": "ipython",
    "version": 3
   },
   "file_extension": ".py",
   "mimetype": "text/x-python",
   "name": "python",
   "nbconvert_exporter": "python",
   "pygments_lexer": "ipython3",
   "version": "3.9.16"
  },
  "orig_nbformat": 4,
  "vscode": {
   "interpreter": {
    "hash": "8218dd525afafe1fce2c00b1c9289104053fa0437168c870b6f65c9837535405"
   }
  }
 },
 "nbformat": 4,
 "nbformat_minor": 2
}
